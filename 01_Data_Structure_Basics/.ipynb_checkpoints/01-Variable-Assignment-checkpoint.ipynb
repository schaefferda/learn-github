{
 "cells": [
  {
   "cell_type": "markdown",
   "metadata": {},
   "source": [
    "# Variable Assignment and Data Types\n",
    "\n",
    "## Introduction\n",
    "\n",
    "### Python Rules for Variable Names\n",
    " - Names cannot start with a number\n",
    " - Names cannot contain spaces (use \"_\" instead)\n",
    " - Names cannot contain any of the following symbols:\n",
    "   - : ' \" , < > / ? | \\ ! @ # % ^ & * ~ +\n",
    " - Best practice is to use names that are lowercase and snake_case (use underscores)\n",
    " - Avoid using Python built-in keywords like `list` or `str`\n",
    " - Avoid using single characters like `l`, `I`, and `O`as they are confusing with numbers `1` and `0`\n",
    " \n",
    "### Dynamic Typing\n",
    "Python uses _dynamic typing,_ meaning you can reassign variables to different data types. This makes __Python__ very flexible in assigning data types. It differes from other languages such as __c++__ that are _statically typed_.\n",
    "\n",
    "__Python:__ `>> x = 5` <br>\n",
    "__c++__: `>> int x = 5`\n",
    "\n",
    "#### Pros of Dynamic Typing\n",
    " * very easy to work with\n",
    " * faster development time\n",
    "    \n",
    "#### Cons of Dynamic Typing\n",
    "* may resullt in unexpected bugs\n",
    "* need to be aware of `type()`\n"
   ]
  },
  {
   "cell_type": "markdown",
   "metadata": {},
   "source": [
    "## Lesson\n",
    "\n",
    "### Assigning Variables\n",
    "Variable assignment follows `name = object`, where a single equals sign is an __assignment operator__"
   ]
  },
  {
   "cell_type": "code",
   "execution_count": 25,
   "metadata": {},
   "outputs": [
    {
     "data": {
      "text/plain": [
       "5"
      ]
     },
     "execution_count": 25,
     "metadata": {},
     "output_type": "execute_result"
    }
   ],
   "source": [
    "a = 5\n",
    "a"
   ]
  },
  {
   "cell_type": "markdown",
   "metadata": {},
   "source": [
    "Above we assigned the integer object `5` to teh variable name `a`.\n",
    "Let's reassign a to a different value of the same type."
   ]
  },
  {
   "cell_type": "code",
   "execution_count": 26,
   "metadata": {},
   "outputs": [
    {
     "data": {
      "text/plain": [
       "10"
      ]
     },
     "execution_count": 26,
     "metadata": {},
     "output_type": "execute_result"
    }
   ],
   "source": [
    "a = 10\n",
    "a"
   ]
  },
  {
   "cell_type": "markdown",
   "metadata": {},
   "source": [
    "Python actually lets you reassign variables with a reference to the same object. This can be useful when you need to update a variables value"
   ]
  },
  {
   "cell_type": "code",
   "execution_count": 27,
   "metadata": {},
   "outputs": [
    {
     "data": {
      "text/plain": [
       "20"
      ]
     },
     "execution_count": 27,
     "metadata": {},
     "output_type": "execute_result"
    }
   ],
   "source": [
    "a = a + 10\n",
    "a"
   ]
  },
  {
   "cell_type": "markdown",
   "metadata": {},
   "source": [
    "In fact, this is so useful that there is a shortcut for this. Python lets you add subtract, multiply and divide numbers with _reassignment_ using `+=`, `-=`, `*=`, and `/=`, respectively."
   ]
  },
  {
   "cell_type": "code",
   "execution_count": 28,
   "metadata": {},
   "outputs": [
    {
     "data": {
      "text/plain": [
       "15.0"
      ]
     },
     "execution_count": 28,
     "metadata": {},
     "output_type": "execute_result"
    }
   ],
   "source": [
    "a += 10\n",
    "a *= 2\n",
    "a -= 15\n",
    "a /= 3\n",
    "a"
   ]
  },
  {
   "cell_type": "markdown",
   "metadata": {},
   "source": [
    "Now let's reassign the variable a to an object of different type"
   ]
  },
  {
   "cell_type": "code",
   "execution_count": 30,
   "metadata": {},
   "outputs": [
    {
     "data": {
      "text/plain": [
       "'Ten'"
      ]
     },
     "execution_count": 30,
     "metadata": {},
     "output_type": "execute_result"
    }
   ],
   "source": [
    "a = 'Ten'\n",
    "a"
   ]
  },
  {
   "cell_type": "markdown",
   "metadata": {},
   "source": [
    "### Determining variable type with `type()`"
   ]
  },
  {
   "cell_type": "markdown",
   "metadata": {},
   "source": [
    "You can check what type of object is assigned to a variable by using Python's built-in `type()` function. Common, basic data types are:\n",
    "\n",
    "* Text Type: `str`\n",
    "* Numeric Type: `int`, `float`, `complex`\n",
    "* Sequence Types: `list`, `tuple`, `range`\n",
    "* Mapping Type: `dict`\n",
    "* Set Types: `set`, `frozenset`\n",
    "* Boolean Type: `bool`\n",
    "* Binary Types: `bytes`, `bytearray`, `memoryview`"
   ]
  },
  {
   "cell_type": "code",
   "execution_count": null,
   "metadata": {},
   "outputs": [],
   "source": []
  },
  {
   "cell_type": "markdown",
   "metadata": {},
   "source": [
    "## Exercises\n",
    "\n",
    "### Assignment\n",
    "\n",
    "1. Assign a dollar value to a variable called `income`\n",
    "2. Assign a tax rate in decimal form to a variable called `tax_rate`\n",
    "3. Calculate taxes owed and assign to a variable called `taxes`\n",
    "4. Ouput the result\n",
    "\n",
    "### Data Types"
   ]
  },
  {
   "cell_type": "code",
   "execution_count": null,
   "metadata": {},
   "outputs": [],
   "source": []
  }
 ],
 "metadata": {
  "kernelspec": {
   "display_name": "Python 3",
   "language": "python",
   "name": "python3"
  },
  "language_info": {
   "codemirror_mode": {
    "name": "ipython",
    "version": 3
   },
   "file_extension": ".py",
   "mimetype": "text/x-python",
   "name": "python",
   "nbconvert_exporter": "python",
   "pygments_lexer": "ipython3",
   "version": "3.7.4"
  }
 },
 "nbformat": 4,
 "nbformat_minor": 2
}
